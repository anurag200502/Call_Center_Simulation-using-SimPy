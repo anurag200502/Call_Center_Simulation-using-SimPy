{
  "nbformat": 4,
  "nbformat_minor": 0,
  "metadata": {
    "colab": {
      "name": "Call Center Simulation.ipynb",
      "provenance": []
    },
    "kernelspec": {
      "name": "python3",
      "display_name": "Python 3"
    },
    "language_info": {
      "name": "python"
    }
  },
  "cells": [
    {
      "cell_type": "code",
      "execution_count": null,
      "metadata": {
        "colab": {
          "base_uri": "https://localhost:8080/"
        },
        "id": "rtyGqvlh7fKH",
        "outputId": "afb22565-86eb-4419-82b1-1a695cbd9411"
      },
      "outputs": [
        {
          "output_type": "stream",
          "name": "stdout",
          "text": [
            "Collecting simpy\n",
            "  Downloading simpy-4.0.1-py2.py3-none-any.whl (29 kB)\n",
            "Installing collected packages: simpy\n",
            "Successfully installed simpy-4.0.1\n"
          ]
        }
      ],
      "source": [
        "! pip install simpy"
      ]
    },
    {
      "cell_type": "code",
      "source": [
        "import simpy\n",
        "import random\n",
        "import math"
      ],
      "metadata": {
        "id": "EbuQp8ms7n_-"
      },
      "execution_count": null,
      "outputs": []
    },
    {
      "cell_type": "code",
      "source": [
        "RANDOM_SEED = 978\n",
        "\n",
        "CUSTOMER_COUNT = 1000\n",
        "\n",
        "INTERARRIVAL_MEAN = 14.3\n",
        "INTERARRIVAL_RATE = 1.0 / INTERARRIVAL_MEAN\n",
        "\n",
        "m = 7.2\n",
        "v = 2.7\n",
        "phi = math.sqrt(v + m ** 2)\n",
        "SERVICE_FRONTDESK_MEAN = math.log(m ** 2 / phi)\n",
        "SERVICE_FRONTDESK_STD = math.sqrt(math.log(phi ** 2 / m ** 2))\n",
        "\n",
        "SERVICE_EXPERT_MEAN = 10.2\n",
        "SERVICE_EXPERT_RATE = 1.0 / SERVICE_EXPERT_MEAN\n",
        "\n",
        "RENEGING_MEAN = 60.0\n",
        "RENEGING_RATE = 1.0 / RENEGING_MEAN\n",
        "\n",
        "BREAK_MEAN = 60.0\n",
        "BREAK_RATE = 1.0 / BREAK_MEAN\n",
        "\n",
        "BREAK_TIME = 3"
      ],
      "metadata": {
        "id": "Reb41bGK7vjI"
      },
      "execution_count": null,
      "outputs": []
    },
    {
      "cell_type": "code",
      "source": [
        "class Customer(object):\n",
        "    def __init__(self, name, env, frontdesk, expert):\n",
        "        self.name = name\n",
        "        self.env = env\n",
        "        self.frontdesk = frontdesk\n",
        "        self.expert = expert\n",
        "        self.arrival = self.env.now\n",
        "        self.action = env.process(self.call())\n",
        "    \n",
        "    def call(self):\n",
        "        #print('%s initiated a call at %g' % (self.name, self.env.now))\n",
        " \n",
        "        # a call is initiated and registered as a request to the frontdesk operator\n",
        "        with self.frontdesk.request() as req:\n",
        "            yield req\n",
        "            #print('%s is assigned to the frontdesk at %g' % (self.name, self.env.now))\n",
        "            # add the waiting time of that customer to waiting_times\n",
        "            self.waiting_time_frontdesk = self.env.now - self.arrival\n",
        "            # call is served\n",
        "            yield self.env.process(self.serve_frontdesk())\n",
        "            #print('%s is done with the frontdesk at %g' % (self.name, self.env.now))\n",
        "            self.frontdesk_exited = self.env.now\n",
        "        \n",
        "        # call is registered as a request to the expert operator\n",
        "        with self.expert.request() as req:\n",
        "            reneg_time = random.expovariate(RENEGING_RATE)\n",
        "            # wait for expert or leave the system\n",
        "            results = yield req | self.env.timeout(reneg_time)\n",
        "            # customer waited less than reneg_time\n",
        "            if req in results:\n",
        "                #print('%s is assigned to the expert at %g' % (self.name, self.env.now))\n",
        "                # add the waiting time of that customer to waiting_times\n",
        "                self.waiting_time_expert = self.env.now - self.frontdesk_exited\n",
        "                # call is served\n",
        "                yield self.env.process(self.serve_expert())\n",
        "                #print('%s is done with the expert at %g' % (self.name, self.env.now))\n",
        "            else:\n",
        "                # customer reneged\n",
        "                #print('%s is reneged at %g' % (self.name, self.env.now))\n",
        "                self.waiting_time_expert = reneg_time\n",
        "                self.service_time_expert = 0\n",
        "            \n",
        "        customers.append(self)\n",
        "        # last customer sets end time\n",
        "        if len(customers) == CUSTOMER_COUNT:\n",
        "            global end_time\n",
        "            end_time = self.env.now\n",
        "            \n",
        "    def serve_frontdesk(self):\n",
        "        self.service_time_frontdesk = random.lognormvariate(SERVICE_FRONTDESK_MEAN, SERVICE_FRONTDESK_STD)\n",
        "        yield self.env.timeout(self.service_time_frontdesk)\n",
        "    \n",
        "    def serve_expert(self):\n",
        "        self.service_time_expert = random.expovariate(SERVICE_EXPERT_RATE)\n",
        "        yield self.env.timeout(self.service_time_expert)"
      ],
      "metadata": {
        "id": "4V5a5r9i74Ms"
      },
      "execution_count": null,
      "outputs": []
    },
    {
      "cell_type": "code",
      "source": [
        "def customer_generator(env, frontdesk, expert):\n",
        "    i = 1\n",
        "    # while end time has not been set by last customer yet\n",
        "    while end_time == 0:\n",
        "        yield env.timeout(random.expovariate(INTERARRIVAL_RATE))\n",
        "        Customer('Customer %s' % (i), env, frontdesk, expert)\n",
        "        i += 1\n",
        "\n",
        "def break_generator(env, expert):\n",
        "    # while end time has not been set by last customer yet\n",
        "    while end_time == 0:\n",
        "        yield env.timeout(random.expovariate(BREAK_RATE))\n",
        "        #print('Expert wants break at %g' % (env.now))\n",
        "        with expert.request() as req:\n",
        "            yield req\n",
        "            #print('Expert gives break at %g' % (env.now))\n",
        "            yield env.timeout(BREAK_TIME)\n",
        "            #print('Expert exits break at %g' % (env.now))\n",
        "            global break_counter\n",
        "            break_counter += BREAK_TIME"
      ],
      "metadata": {
        "id": "NNyvTtfx7-X1"
      },
      "execution_count": null,
      "outputs": []
    },
    {
      "cell_type": "code",
      "source": [
        "customers = []\n",
        "end_time = 0\n",
        "break_counter = 0"
      ],
      "metadata": {
        "id": "CENZ40T78CWK"
      },
      "execution_count": null,
      "outputs": []
    },
    {
      "cell_type": "code",
      "source": [
        "random.seed(RANDOM_SEED)\n",
        "env = simpy.Environment()\n",
        "frontdesk = simpy.Resource(env, capacity = 1)\n",
        "expert = simpy.Resource(env, capacity = 1)\n",
        "env.process(customer_generator(env, frontdesk, expert))\n",
        "env.process(break_generator(env, expert))\n",
        "env.run()\n",
        "total_service_time_frontdesk = 0\n",
        "total_service_time_expert = 0\n",
        "total_waiting_time_expert = 0\n",
        "total_waiting_time = 0\n",
        "max_ratio = 0\n",
        "for i in range(CUSTOMER_COUNT):\n",
        "    c = customers[i]\n",
        "    total_service_time_frontdesk += c.service_time_frontdesk\n",
        "    total_service_time_expert += c.service_time_expert\n",
        "    total_waiting_time_expert += c.waiting_time_expert\n",
        "    total_waiting_time += c.waiting_time_frontdesk + c.waiting_time_expert\n",
        "    max_ratio = max([max_ratio, ((c.waiting_time_frontdesk + c.waiting_time_expert) / (c.waiting_time_frontdesk + c.waiting_time_expert + c.service_time_frontdesk + c.service_time_expert))])\n",
        "print('Utilization of frontdesk: %g' % (total_service_time_frontdesk / end_time))\n",
        "print('Utilization of expert (including breaks): %g' % (total_service_time_expert / end_time))\n",
        "print('Utilization of expert (excluding breaks): %g' % (total_service_time_expert / (end_time - break_counter)))\n",
        "print('Average Total Waiting Time: %g' % (total_waiting_time / CUSTOMER_COUNT))\n",
        "print('Maximum Total Waiting Time to Total System Time Ratio: %g' % max_ratio)\n",
        "print('Average number of people waiting to be served by expert: %g' % (total_waiting_time_expert / end_time))"
      ],
      "metadata": {
        "colab": {
          "base_uri": "https://localhost:8080/"
        },
        "id": "H-OqJQ0Y8F28",
        "outputId": "8ff2f879-b909-4fb8-9538-427bf44077a0"
      },
      "execution_count": null,
      "outputs": [
        {
          "output_type": "stream",
          "name": "stdout",
          "text": [
            "Utilization of frontdesk: 0.510645\n",
            "Utilization of expert (including breaks): 0.624112\n",
            "Utilization of expert (excluding breaks): 0.650412\n",
            "Average Total Waiting Time: 11.1983\n",
            "Maximum Total Waiting Time to Total System Time Ratio: 0.917661\n",
            "Average number of people waiting to be served by expert: 0.523443\n"
          ]
        }
      ]
    },
    {
      "cell_type": "code",
      "source": [
        "CUSTOMER_COUNT = 5000\n",
        "customers = []\n",
        "end_time = 0\n",
        "break_counter = 0\n",
        "random.seed(RANDOM_SEED)\n",
        "env = simpy.Environment()\n",
        "frontdesk = simpy.Resource(env, capacity = 1)\n",
        "expert = simpy.Resource(env, capacity = 1)\n",
        "env.process(customer_generator(env, frontdesk, expert))\n",
        "env.process(break_generator(env, expert))\n",
        "env.run()\n",
        "total_service_time_frontdesk = 0\n",
        "total_service_time_expert = 0\n",
        "total_waiting_time_expert = 0\n",
        "total_waiting_time = 0\n",
        "max_ratio = 0\n",
        "for i in range(CUSTOMER_COUNT):\n",
        "    c = customers[i]\n",
        "    total_service_time_frontdesk += c.service_time_frontdesk\n",
        "    total_service_time_expert += c.service_time_expert\n",
        "    total_waiting_time_expert += c.waiting_time_expert\n",
        "    total_waiting_time += c.waiting_time_frontdesk + c.waiting_time_expert\n",
        "    max_ratio = max([max_ratio, ((c.waiting_time_frontdesk + c.waiting_time_expert) / (c.waiting_time_frontdesk + c.waiting_time_expert + c.service_time_frontdesk + c.service_time_expert))])\n",
        "print('Utilization of frontdesk: %g' % (total_service_time_frontdesk / end_time))\n",
        "print('Utilization of expert (including breaks): %g' % (total_service_time_expert / end_time))\n",
        "print('Utilization of expert (excluding breaks): %g' % (total_service_time_expert / (end_time - break_counter)))\n",
        "print('Average Total Waiting Time: %g' % (total_waiting_time / CUSTOMER_COUNT))\n",
        "print('Maximum Total Waiting Time to Total System Time Ratio: %g' % max_ratio)\n",
        "print('Average number of people waiting to be served by expert: %g' % (total_waiting_time_expert / end_time))"
      ],
      "metadata": {
        "colab": {
          "base_uri": "https://localhost:8080/"
        },
        "id": "aAEXjnPn8Lcl",
        "outputId": "efe9a912-9417-4fcd-96c4-3b7a9d64e361"
      },
      "execution_count": null,
      "outputs": [
        {
          "output_type": "stream",
          "name": "stdout",
          "text": [
            "Utilization of frontdesk: 0.497092\n",
            "Utilization of expert (including breaks): 0.609585\n",
            "Utilization of expert (excluding breaks): 0.636116\n",
            "Average Total Waiting Time: 11.7349\n",
            "Maximum Total Waiting Time to Total System Time Ratio: 0.952532\n",
            "Average number of people waiting to be served by expert: 0.564514\n"
          ]
        }
      ]
    }
  ]
}